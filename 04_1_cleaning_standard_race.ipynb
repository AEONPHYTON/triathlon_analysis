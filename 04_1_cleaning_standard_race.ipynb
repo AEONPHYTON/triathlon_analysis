{
 "cells": [
  {
   "cell_type": "markdown",
   "metadata": {},
   "source": [
    "# Data cleaning for standard race\n",
    "## standard race are divided in male and female\n",
    "We need to cleanind data:\n",
    "* divide the category for analysis (the division is for élite and Age Group category)\n",
    "* clean the outliner\n",
    "\n",
    "# ⚠️⚠️⚠️\n",
    "*After the first script, we denote some differences between males and females in terms of time and other things, also the difference in time between sprint and standard distance is obvious. Every file is structured for a specific gender and distance to create the correct division for machine learning elaboration*\n",
    "# ⚠️⚠️⚠️\n",
    "\n",
    "This operation is valid for the 4 file (`standard_male.csv`, `standard_female.csv`),\\\n",
    "but every file are cleaned differently\n",
    "\n",
    "In this file we analyze: <ins>`standard_male.csv`</ins>"
   ]
  },
  {
   "cell_type": "code",
   "execution_count": null,
   "metadata": {},
   "outputs": [],
   "source": [
    "# import libraries\n",
    "import pandas as pd\n",
    "import matplotlib.pyplot as plt"
   ]
  },
  {
   "cell_type": "markdown",
   "metadata": {},
   "source": [
    "To open the files use the name of the XXX.csv file that you want to open\\\n",
    "The cleaning operation is the same for all file\\\n",
    "Remember to change the name of the file at the end of the notebook to have the correct file name"
   ]
  },
  {
   "cell_type": "code",
   "execution_count": null,
   "metadata": {},
   "outputs": [],
   "source": [
    "data_race = pd.read_csv(\"standard_male_new.csv\", low_memory=False)\n",
    "race = pd.DataFrame(data_race)"
   ]
  },
  {
   "cell_type": "code",
   "execution_count": null,
   "metadata": {},
   "outputs": [],
   "source": [
    "race.head()"
   ]
  },
  {
   "cell_type": "code",
   "execution_count": null,
   "metadata": {},
   "outputs": [],
   "source": [
    "race.shape"
   ]
  },
  {
   "cell_type": "code",
   "execution_count": null,
   "metadata": {},
   "outputs": [],
   "source": [
    "race.dtypes"
   ]
  },
  {
   "cell_type": "markdown",
   "metadata": {},
   "source": [
    "Find the unique athlete categories "
   ]
  },
  {
   "cell_type": "code",
   "execution_count": null,
   "metadata": {},
   "outputs": [],
   "source": [
    "category = race[\"prog_name\"].unique()\n",
    "category"
   ]
  },
  {
   "cell_type": "code",
   "execution_count": null,
   "metadata": {},
   "outputs": [],
   "source": [
    "category.shape"
   ]
  },
  {
   "cell_type": "markdown",
   "metadata": {},
   "source": [
    "Take the column with a specific athlete category.\\\n",
    "In this case we take the youth, junior, U23, and élite category\n",
    "\n",
    "this is the name of the category extracted from the previous array:\\\n",
    "'Elite Men', 'Elite Women', 'U23 Men', 'Junior Men','Youth Men', 'Final Junior Men','Semifinal 1 Elite Men','Semifinal 2 Elite Men', 'Semifinal 3 Elite Men','Semifinal 4 Elite Men', 'Semifinal 1 Junior Men','Semifinal 2 Junior Men', 'Semifinal 3 Junior Men','Semifinal 4 Junior Men','Final Youth Men', 'Semifinal 1 Youth Men','Semifinal 2 Youth Men', 'Final B Youth Men','Elite Men Sprint Distance','Time Trial Qualifier Junior Men', 'Elite and U23 Me'Semifinal 3 Youth Men','Final B Elite Men','U13 Men', 'U15 Men', 'Time Trial Qualifier Youth Men', 'Junior Men A', 'Junior Men B','Qualifier 1 Elite Men', 'Qualifier 2 Elite Men','Qualifier 3 Elite Men', 'Qualifier 4 Elite Men','Qualifier 5 Elite Men', 'Repechage 1 Elite Men','Repechage 2 Elite Men', 'Final C Elite Men','Final Men. Stage 1', 'Final Men. Stage 2', 'Final Men. Stage 3','U21 Men','Repechage 3 Elite Men', 'Repechage 4 Elite Men','Elite Men Heat 1 Stage 1', 'Elite Men Final Stage 1','Elite Men Final Stage 2', 'Elite Men Final Stage 3','Elite Men Heat 2 Stage 1', 'Elite Men Heat 2 Stage 2','Elite Men Heat 1 Stage 2', 'Elite Men Heat 1', 'Elite Men Heat 2','Elite Men Heat 3','Elite Men Heat 3 Stage 2', 'Elite Men Heat 3 Stage 1','Elite Men Repechage 1 Stage 1', 'Elite Men Repechage 1 Stage 2','Elite Men Repechage 2 Stage 1', 'Elite Men Repechage 2 Stage 2','U19 Men'\\\n",
    "\n",
    "To filter only the final result we delete the repecage or semifinal o similar categories"
   ]
  },
  {
   "cell_type": "markdown",
   "metadata": {},
   "source": [
    "Use only this category"
   ]
  },
  {
   "cell_type": "code",
   "execution_count": null,
   "metadata": {},
   "outputs": [],
   "source": [
    "category_name = ['Elite Men', 'U23 Men', 'Junior Men', 'Youth Men', 'Elite and U23 Me']"
   ]
  },
  {
   "cell_type": "code",
   "execution_count": null,
   "metadata": {},
   "outputs": [],
   "source": [
    "elite_category = race.loc[race['prog_name'].isin(category_name)]\n",
    "elite_category\n",
    "elite_category.value_counts('prog_name')\n"
   ]
  },
  {
   "cell_type": "code",
   "execution_count": null,
   "metadata": {},
   "outputs": [],
   "source": [
    "elite_category.shape"
   ]
  },
  {
   "cell_type": "markdown",
   "metadata": {},
   "source": [
    "create a chart to visualize the result"
   ]
  },
  {
   "cell_type": "code",
   "execution_count": null,
   "metadata": {},
   "outputs": [],
   "source": [
    "plt.scatter(race[\"tempo_totale_sec\"], race[\"final_position\"], c=\"blue\", alpha=0.1)\n",
    "plt.title(\"élite final position Vs. total time\")\n",
    "plt.xlabel(\"Total time (sec)\")\n",
    "plt.ylabel(\"Final position\")\n",
    "plt.show"
   ]
  },
  {
   "cell_type": "markdown",
   "metadata": {},
   "source": [
    "We need to find out if the age is positive and decide the minimum age"
   ]
  },
  {
   "cell_type": "code",
   "execution_count": null,
   "metadata": {},
   "outputs": [],
   "source": [
    "age = race[['age_at_race']].value_counts()\n",
    "age"
   ]
  },
  {
   "cell_type": "markdown",
   "metadata": {},
   "source": [
    "The age had an outliner, delete the age below zero"
   ]
  },
  {
   "cell_type": "code",
   "execution_count": null,
   "metadata": {},
   "outputs": [],
   "source": [
    "age = race.drop(race.loc[race['age_at_race'] <= 0].index, inplace=True)"
   ]
  },
  {
   "cell_type": "markdown",
   "metadata": {},
   "source": [
    "create a scatter plot to visualize it"
   ]
  },
  {
   "cell_type": "code",
   "execution_count": null,
   "metadata": {},
   "outputs": [],
   "source": [
    "plt.scatter(race[\"age_at_race\"], race[\"final_position\"], c=\"blue\", alpha=0.1)\n",
    "plt.title(\"age_at_race Vs. final_position\")\n",
    "plt.xlabel(\"age_at_race\")\n",
    "plt.ylabel(\"Final position\")\n",
    "plt.show"
   ]
  },
  {
   "cell_type": "markdown",
   "metadata": {},
   "source": [
    "We need to decide what is the minimum time for standard distance.\\\n",
    "Normally, in an optimal race, the standard distance is 1 hour and 30 minutes.\\\n",
    "Using a scatter plot with age and total time in seconds we know the final time of the race."
   ]
  },
  {
   "cell_type": "code",
   "execution_count": null,
   "metadata": {},
   "outputs": [],
   "source": [
    "plt.scatter(race[\"age_at_race\"], race[\"tempo_totale_sec\"], c=\"blue\", alpha=0.1)\n",
    "plt.title(\"age_at_race Vs. tempo_totale_sec\")\n",
    "plt.xlabel(\"age_at_race\")\n",
    "plt.ylabel(\"tempo_totale_sec\")\n",
    "plt.show"
   ]
  },
  {
   "cell_type": "markdown",
   "metadata": {},
   "source": [
    "Find the number of the participants in every category of race\\\n",
    "Visualize the total time in every race category"
   ]
  },
  {
   "cell_type": "code",
   "execution_count": null,
   "metadata": {},
   "outputs": [],
   "source": [
    "type_of_race = race[\"cat_name_categories\"].value_counts()\n",
    "type_of_race"
   ]
  },
  {
   "cell_type": "code",
   "execution_count": null,
   "metadata": {},
   "outputs": [],
   "source": [
    "plt.figure(figsize=(8, 5))\n",
    "plt.scatter(race[\"cat_name_categories\"], race[\"tempo_totale_sec\"], c=\"blue\", alpha=0.1)\n",
    "plt.title(\"Category of race Vs. tempo_totale_sec\")\n",
    "plt.xlabel(\"Category\")\n",
    "plt.ylabel(\"tempo_totale_sec\")\n",
    "plt.xticks(rotation=90)\n",
    "plt.yticks(range(1000, 12000, 500))\n",
    "plt.show"
   ]
  },
  {
   "cell_type": "markdown",
   "metadata": {},
   "source": [
    "We need to delete some type of race that are non included in the élite program\n"
   ]
  },
  {
   "cell_type": "code",
   "execution_count": null,
   "metadata": {},
   "outputs": [],
   "source": [
    "type_of_race = race[\"cat_name_categories\"].unique()\n",
    "type_of_race"
   ]
  },
  {
   "cell_type": "markdown",
   "metadata": {},
   "source": [
    "From the category name colum delete the race that not included in a élite program like age-group event and paratriathlon race.\\\n",
    "The generic name 'Race' is the national championship, we decide to delete from the analisys\\\n",
    "The list of the category is:\n",
    "\n",
    "'World Cup', 'Major Games', 'Continental Championships',\\\n",
    "'Recognised Event', 'Continental Cup', 'World Championships',\\\n",
    "'Regional Championships', 'Recognised Games',\\\n",
    "'World Championship Series', 'Race', 'Age-Group Event',\\\n",
    "'World Paratriathlon Event'"
   ]
  },
  {
   "cell_type": "code",
   "execution_count": null,
   "metadata": {},
   "outputs": [],
   "source": [
    "race_type = ['Race', 'Age-Group Event','World Paratriathlon Event']\n",
    "race = race[~race['cat_name_categories'].isin(race_type)]"
   ]
  },
  {
   "cell_type": "code",
   "execution_count": null,
   "metadata": {},
   "outputs": [],
   "source": [
    "race[\"cat_name_categories\"].unique()"
   ]
  },
  {
   "cell_type": "code",
   "execution_count": null,
   "metadata": {},
   "outputs": [],
   "source": [
    "race[\"cat_name_categories\"].value_counts()"
   ]
  },
  {
   "cell_type": "markdown",
   "metadata": {},
   "source": [
    "A simple evaluation of the total time\\\n",
    "The minimum value (1799) was found, remember that we deleted the time below 1800 seconds (30 minutes) during the initial cleaning.\\\n",
    "Now we need to decide what is the minimum time to start the analysis for standard and sprint races, for male and female"
   ]
  },
  {
   "cell_type": "code",
   "execution_count": null,
   "metadata": {},
   "outputs": [],
   "source": [
    "summmary_time = race[[\"tempo_totale_sec\"]].describe()\n",
    "summmary_time"
   ]
  },
  {
   "cell_type": "code",
   "execution_count": null,
   "metadata": {},
   "outputs": [],
   "source": [
    "limiti_total_time = race.drop(race.loc[race['tempo_totale_sec'] <= 0].index, inplace=True)"
   ]
  },
  {
   "cell_type": "markdown",
   "metadata": {},
   "source": [
    "Define better the visualization to decide the lower limit to delete the data\\\n",
    "set the red line to visualize the time. \\\n",
    "Use the variable *time_limit* to change dinamically the value"
   ]
  },
  {
   "cell_type": "code",
   "execution_count": null,
   "metadata": {},
   "outputs": [],
   "source": [
    "# set a value in second to draw a line on the chart to set the time limit\n",
    "time_limit = 5300\n",
    "\n",
    "plt.scatter(race[\"age_at_race\"], race[\"tempo_totale_sec\"], c=\"blue\", alpha=0.1)\n",
    "plt.title(\"age_at_race Vs. tempo_totale_sec\")\n",
    "plt.xlabel(\"age_at_race\")\n",
    "plt.ylabel(\"tempo_totale_sec\")\n",
    "plt.yticks(range(1000, 12000, 500))\n",
    "plt.axhline(y=time_limit, color='r', linestyle='--')\n",
    "plt.show"
   ]
  },
  {
   "cell_type": "markdown",
   "metadata": {},
   "source": [
    "Watching the chart it's important to view the age at race of the athlete.\\\n",
    "Some athletes are over 40 years old.\\\n",
    "Normally the élite athletes don't have age over 40 (in rare cases)\\\n",
    "what is the age limit for the anlisys?"
   ]
  },
  {
   "cell_type": "code",
   "execution_count": null,
   "metadata": {},
   "outputs": [],
   "source": [
    "athlete_age = race[[\"age_at_race\"]].describe()\n",
    "athlete_age"
   ]
  },
  {
   "cell_type": "markdown",
   "metadata": {},
   "source": [
    "Drop the athlete that have a age at race over 40 years old"
   ]
  },
  {
   "cell_type": "code",
   "execution_count": null,
   "metadata": {},
   "outputs": [],
   "source": [
    "age_limit = race.drop(race.loc[race['age_at_race'] > 40].index, inplace=True)\n"
   ]
  },
  {
   "cell_type": "code",
   "execution_count": null,
   "metadata": {},
   "outputs": [],
   "source": [
    "athlete_age = race[[\"age_at_race\"]].describe()\n",
    "athlete_age"
   ]
  },
  {
   "cell_type": "markdown",
   "metadata": {},
   "source": [
    "Create a new chart to visualize the data with an age limit\\\n",
    "During the data cleaning some athletes don't have the years of birth and we decided to set default the year of birth at year 2000. \n"
   ]
  },
  {
   "cell_type": "code",
   "execution_count": null,
   "metadata": {},
   "outputs": [],
   "source": [
    "# set a value in second to draw a line on the chart to set the time limit\n",
    "time_limit_down = 5300\n",
    "\n",
    "plt.scatter(race[\"age_at_race\"], race[\"tempo_totale_sec\"], c=\"blue\", alpha=0.1)\n",
    "plt.title(\"age_at_race Vs. tempo_totale_sec\")\n",
    "plt.xlabel(\"age_at_race\")\n",
    "plt.ylabel(\"tempo_totale_sec\")\n",
    "plt.yticks(range(1000, 12000, 500))\n",
    "plt.axhline(y=time_limit_down, color='r', linestyle='--')\n",
    "plt.show"
   ]
  },
  {
   "cell_type": "code",
   "execution_count": null,
   "metadata": {},
   "outputs": [],
   "source": [
    "plt.figure(figsize=(5, 4))\n",
    "plt.scatter(race[\"cat_name_categories\"], race[\"tempo_totale_sec\"], c=\"blue\", alpha=0.1)\n",
    "plt.title(\"Category of race Vs. tempo_totale_sec\")\n",
    "plt.xlabel(\"Category\")\n",
    "plt.ylabel(\"tempo_totale_sec\")\n",
    "plt.xticks(rotation=90)\n",
    "plt.yticks(range(1000, 12000, 500))\n",
    "plt.show"
   ]
  },
  {
   "cell_type": "markdown",
   "metadata": {},
   "source": [
    "In the first chart we can observe the age at race sometime is zero.\\\n",
    "We decide to use all age for the analysis\\\n",
    "In the second chart we can observe all type of race and the total time\n",
    "<hr/>\n",
    "\n",
    "Now we need to decide the time limit for the sprint and standard distances\\\n",
    "5300 seconds is 1 hour and 28 minutes and 20 seconds \\\n",
    "For a standard distance of 1 hour and half it's a very low time to complete the race.\\\n",
    "Sometimes the race was cut (for example in swim split) because the water temperature was to low for swimming.\\\n",
    "The swim distance from 1.500 meters is reduced to 750 meters or below\\. \n",
    "In standard distance we decided to drop all the values below 5300 seconds"
   ]
  },
  {
   "cell_type": "code",
   "execution_count": null,
   "metadata": {},
   "outputs": [],
   "source": [
    "drop_time_limit = race.drop(race.loc[race['tempo_totale_sec'] < 5300].index, inplace=True)"
   ]
  },
  {
   "cell_type": "markdown",
   "metadata": {},
   "source": [
    "Visualize the result of the operation"
   ]
  },
  {
   "cell_type": "code",
   "execution_count": null,
   "metadata": {},
   "outputs": [],
   "source": [
    "plt.figure(figsize=(5, 4))\n",
    "plt.scatter(race[\"cat_name_categories\"], race[\"tempo_totale_sec\"], c=\"blue\", alpha=0.1)\n",
    "plt.title(\"Category of race Vs. tempo_totale_sec\")\n",
    "plt.xlabel(\"Category\")\n",
    "plt.ylabel(\"tempo_totale_sec\")\n",
    "plt.xticks(rotation=90)\n",
    "plt.yticks(range(1000, 12000, 500))\n",
    "plt.show"
   ]
  },
  {
   "cell_type": "markdown",
   "metadata": {},
   "source": [
    "For a better understanding of the data, we create a chart with the date and total time\\\n",
    "After the first look at the chart we observe that the total time, sometimes is elevated.\\\n",
    "For a standard distance time over 9000 seconds (2 hours and 30 minutes) it's a good time for an élite athlete.\\\n",
    "After that we decided to delete all the time over 9000 seconds"
   ]
  },
  {
   "cell_type": "code",
   "execution_count": null,
   "metadata": {},
   "outputs": [],
   "source": [
    "time_limit_up = 9000\n",
    "\n",
    "plt.figure(figsize=(30, 4))\n",
    "plt.scatter(race[\"event_date\"], race[\"tempo_totale_sec\"], c=\"blue\", alpha=0.1)\n",
    "plt.title(\"Date Vs. tempo_totale_sec\")\n",
    "plt.xlabel(\"Date\")\n",
    "plt.ylabel(\"tempo_totale_sec\")\n",
    "plt.xticks(rotation=90)\n",
    "plt.yticks(range(5000, 10000, 500))\n",
    "plt.axhline(y=time_limit_up, color='r', linestyle='--')\n",
    "plt.show"
   ]
  },
  {
   "cell_type": "code",
   "execution_count": null,
   "metadata": {},
   "outputs": [],
   "source": [
    "drop_time_limit_up = race.drop(race.loc[race['tempo_totale_sec'] > 9000].index, inplace=True)"
   ]
  },
  {
   "cell_type": "code",
   "execution_count": null,
   "metadata": {},
   "outputs": [],
   "source": [
    "time_limit_up = 9000\n",
    "time_limit_down = 6000\n",
    "\n",
    "plt.figure(figsize=(30, 4))\n",
    "plt.scatter(race[\"event_date\"], race[\"tempo_totale_sec\"], c=\"blue\", alpha=0.1)\n",
    "plt.title(\"Date Vs. tempo_totale_sec\")\n",
    "plt.xlabel(\"Date\")\n",
    "plt.ylabel(\"tempo_totale_sec\")\n",
    "plt.xticks(rotation=90)\n",
    "plt.yticks(range(5000, 10000, 500))\n",
    "plt.axhline(y=time_limit_up, color='r', linestyle='--')\n",
    "plt.axhline(y=time_limit_down, color='g', linestyle='--')\n",
    "plt.show"
   ]
  },
  {
   "cell_type": "markdown",
   "metadata": {},
   "source": [
    "For a fine tuning of the limit of the time (below and over) for a standard distance we can re-set the down limit to 6000 second (1 hour and 40 minutes)\n",
    "<p>Enlarging the chart we denote that the upper time probably is too high for a better machine learning calculus,\n",
    "still we decided to modify the upper limit while creating the machine learning model and not now\n",
    "to create a first model and then modify the time limit to try if the time limit creates a different model.<p>"
   ]
  },
  {
   "cell_type": "code",
   "execution_count": null,
   "metadata": {},
   "outputs": [],
   "source": [
    "drop_time_limit_up = race.drop(race.loc[race['tempo_totale_sec'] < 6000].index, inplace=True)"
   ]
  },
  {
   "cell_type": "code",
   "execution_count": null,
   "metadata": {},
   "outputs": [],
   "source": [
    "time_limit_up = 8100\n",
    "time_limit_down = 6000\n",
    "\n",
    "plt.figure(figsize=(60, 10))\n",
    "plt.scatter(race[\"event_date\"], race[\"tempo_totale_sec\"], c=\"blue\", alpha=0.1)\n",
    "plt.title(\"Date Vs. tempo_totale_sec\", fontsize=30)\n",
    "plt.xlabel(\"Date\", fontsize=25)\n",
    "plt.ylabel(\"tempo_totale_sec\", fontsize=25)\n",
    "plt.xticks(rotation=90, fontsize=10)\n",
    "plt.yticks(range(5900, 9250, 250), fontsize=20)\n",
    "plt.axhline(y=time_limit_up, color='r', linestyle='--')\n",
    "plt.axhline(y=time_limit_down, color='g', linestyle='--')\n",
    "plt.show"
   ]
  },
  {
   "cell_type": "code",
   "execution_count": null,
   "metadata": {},
   "outputs": [],
   "source": [
    "# find the coulumns type of data in the dataset\n",
    "columns_name = race.dtypes\n",
    "columns_name.tolist()"
   ]
  },
  {
   "cell_type": "markdown",
   "metadata": {},
   "source": [
    "this is the list of the header of the column:\\\n",
    "'athlete_id', 'prog_id', 'event_id', 'athlete_gender', 'athlete_country_id', 'athlete_yob', 'athlete_noc',\n",
    " 'prog_name', 'prog_date', 'cat_name_categories', 'cat_id_categories', 'cat_parent_id_categories', 'cat_name_specification_first', 'cat_id_specification_first', 'cat_parent_id_specification_first',\n",
    " 'cat_name_specification_second', 'cat_id_specification_second', 'cat_parent_id_specification_second',\n",
    " 'event_date', 'event_country_noc', 'event_region_id', 'event_country_id', 'event_region_name',\n",
    " 'position', 'start_num', 'tempo_nuoto_sec', 'tempo_T1_sec', 'tempo_ciclismo_sec', 'tempo_T2_sec',\n",
    " 'tempo_corsa_sec', 'tempo_totale_sec', 'swim_T1', 'swim_T1_bike', 'swim_T1_bike_T2', 'bike_T2',\n",
    " 'swim_distance', 'bike_distance', 'run_distance', 'percentage_swim', 'percentage_t_1', 'percentage_bike',\n",
    " 'percentage_t_2', 'percentage_run', 'swim_T1_percentage', 'swim_T1_bike_percentage', 'swim_T1_bike_T2_percentage',\n",
    " 'bike_T2_percentage', 'avg_swim_vel_m/s', 'avg_bike_vel_m/s', 'avg_run_vel_m/s ', 'swim_position', 't1_position',\n",
    " 'bike_position', 't2_position', 'run_position', 'final_position', 'swim_t1_position', 'swim_t1_bike_position',\n",
    " 'swim_t1_bike_t2_position', 'prog_date_year', 'age_at_race'\n",
    "\n",
    "we decided to eliminate these columns and the reason:\n",
    "\n",
    "* `athlete_id`: it's the ID's of the athlete  it's not important for the analisys\n",
    "* `prog_id`: the program ID's it's not important for the analisys\n",
    "*  `event_id`: the event ID's it`s not important for the analisys\n",
    "* `athlete_gender`: we divided the gender in the previous cleaning\n",
    "* `athlete_yob`: we used this element in the previous cleaning\n",
    "* `athlete_noc`: the nationlity of the athlete it's not important for the analisys\n",
    "* `athlete_country_id`: the ID's of the athlete it's not important for the analisys\n",
    "* `prog_name`: is the name of the category of the athletes (élite or age-group) we delete all different prog name to have only élite\n",
    "* `prog_date`: it's a duplicate of the event_date column\n",
    "* `cat_name_categories`: it's a text and identify the level of the race (i.e. world cup etc.)\n",
    "* `cat_id_categories`:  it's a number that identify the cat_name_categories\n",
    "* `cat_parent_id_categories`: it's a code and identify the cat_name_categories. \n",
    "* `cat_name_specification_first`:it's a text and identify the type of race of the race (i.e. triathlon, duathlon etc ), we devide the distance (spirint and standard) in the previous cleaning\n",
    "* `cat_id_specification_first`: it's a code and identify the cat_name_specification_first. \n",
    "* `cat_parent_id_specification_first`: it's a code and identify the sub cat_name_specification_first. \n",
    "* `cat_name_specification_second`: it's a text and identify the distance of the race (i.e. standard, sprint etc ), we devide the distance (spirint and standard) in the previous cleaning\n",
    "* `cat_id_specification_second`: it's a code and identify the cat_name_specification_second. \n",
    "* `cat_parent_id_specification_second`: it's a code and identify the sub cat_name_specification_second. \n",
    "* `event_country_noc`: it's a text and identify the name of the nation \n",
    "* `event_region_id`: it's the numeric ID's of the event_country_noc\n",
    "* `event_country_id`: it's a text to identify the name of the nation of the race\n",
    "* `event_region_name`: it's the numeric ID's of the event_region_name\n",
    "* `prog_date_year`: it' a colums used to calculate the age_at_race\n",
    "* `final_position`: this is a final position calculated, but we have this information from the original data\n",
    "* `start_num`: it's the starting number of the athlete"
   ]
  },
  {
   "cell_type": "code",
   "execution_count": null,
   "metadata": {},
   "outputs": [],
   "source": [
    "surplus_columns = [\"athlete_id\", \"prog_id\", \"event_id\", \"athlete_gender\", \"athlete_yob\", \"athlete_noc\", \"athlete_country_id\", \n",
    "                   \"prog_name\", \"prog_date\", \"cat_name_categories\", \"cat_id_categories\", \"cat_parent_id_categories\", \n",
    "                   \"cat_name_specification_first\", \"cat_id_specification_first\", \"cat_parent_id_specification_first\",\n",
    "                   \"cat_name_specification_second\", \"cat_id_specification_second\", \"cat_parent_id_specification_second\",\n",
    "                   \"event_country_noc\", \"event_region_id\", \"event_country_id\", \"event_region_name\", \"final_position\", \"start_num\"] "
   ]
  },
  {
   "cell_type": "code",
   "execution_count": null,
   "metadata": {},
   "outputs": [],
   "source": [
    "standard_male = race.drop(surplus_columns, axis=1, inplace=True)\n",
    "standard_male"
   ]
  },
  {
   "cell_type": "code",
   "execution_count": null,
   "metadata": {},
   "outputs": [],
   "source": [
    "race.to_csv('train_standard_male_new.csv', index=False)"
   ]
  }
 ],
 "metadata": {
  "kernelspec": {
   "display_name": "base",
   "language": "python",
   "name": "python3"
  },
  "language_info": {
   "codemirror_mode": {
    "name": "ipython",
    "version": 3
   },
   "file_extension": ".py",
   "mimetype": "text/x-python",
   "name": "python",
   "nbconvert_exporter": "python",
   "pygments_lexer": "ipython3",
   "version": "3.12.4"
  },
  "orig_nbformat": 4
 },
 "nbformat": 4,
 "nbformat_minor": 2
}
